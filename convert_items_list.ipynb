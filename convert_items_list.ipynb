{
  "nbformat": 4,
  "nbformat_minor": 0,
  "metadata": {
    "colab": {
      "provenance": []
    },
    "kernelspec": {
      "name": "python3",
      "display_name": "Python 3"
    },
    "language_info": {
      "name": "python"
    }
  },
  "cells": [
    {
      "cell_type": "code",
      "execution_count": 14,
      "metadata": {
        "colab": {
          "base_uri": "https://localhost:8080/"
        },
        "id": "pLFhaz1EwuQI",
        "outputId": "c47e953a-37b5-4f9c-b1ad-03c343f475c6"
      },
      "outputs": [
        {
          "output_type": "stream",
          "name": "stdout",
          "text": [
            "Enter the input text: Claim item has quantity greater than 42 of \"acetaminophen\"         or Claim item has quantity greater than 21 of \"advil\"         or Claim item has quantity greater than 21 of \"anorol\"         or Claim item has quantity greater than 30 of \"arthrotec\"         or Claim item has quantity greater than 30 of \"athrotec\"         or Claim item has quantity greater than 21 of \"baclofen\"         or Claim item has quantity greater than 21 of \"brustan-n\"         or Claim item has quantity greater than 21 of \"brustan\"         or Claim item has quantity greater than 21 of \"Calci-max\"         or Claim item has quantity greater than 21 of \"Calcimax\"         or Claim item has quantity greater than 21 of \"Calcium\"         or Claim item has quantity greater than 2 of \"calpol\"         or Claim item has quantity greater than 21 of \"cataflam\"         or Claim item has quantity greater than 21 of \"ceflonac\"         or Claim item has quantity greater than 21 of \"celebrex\"         or Claim item has quantity greater than 21 of \"celecoxib\"         or Claim item has quantity greater than 21 of \"chymoral\"         or Claim item has quantity greater than 21 of \"chymotrypsin\"         or Claim item has quantity greater than 21 of \"co-codamol\"         or Claim item has quantity greater than 21 of \"cocodamol\"         or Claim item has quantity greater than 21 of \"colpol\"         or Claim item has quantity greater than 1 of \"deep heat\"         or Claim item has quantity greater than 21 of \"diclofenac\"         or Claim item has quantity greater than 21 of \"diclofenae\"         or Claim item has quantity greater than 21 of \"diclomol\"         or Claim item has quantity greater than 21 of \"dolo-meta\"         or Claim item has quantity greater than 21 of \"dolo\"         or Claim item has quantity greater than 21 of \"dolometa\"         or Claim item has quantity greater than 42 of \"drugamol\"         or Claim item has quantity greater than 21 of \"eproxen\"         or Claim item has quantity greater than 21 of \"felvin\"         or Claim item has quantity greater than 21 of \"felxicam\"         or Claim item has quantity greater than 21 of \"flotac\"         or Claim item has quantity greater than 21 of \"ibex\"         or Claim item has quantity greater than 30 of \"ibrucap\"         or Claim item has quantity greater than 30 of \"ibrupofen\"         or Claim item has quantity greater than 30 of \"ibrupofen\"         or Claim item has quantity greater than 30 of \"ibucap\"         or Claim item has quantity greater than 30 of \"ibuprofen\"         or Claim item has quantity greater than 21 of \"Ketoprofen\"         or Claim item has quantity greater than 21 of \"ketorolac\"         or Claim item has quantity greater than 21 of \"ketotifen\"         or Claim item has quantity greater than 21 of \"lofnac\"         or Claim item has quantity greater than 21 of \"mefanamic\"         or Claim item has quantity greater than 21 of \"mefenamic\"         or Claim item has quantity greater than 21 of \"melocap\"         or Claim item has quantity greater than 21 of \"meloxicam\"         or Claim item has quantity greater than 21 of \"methocarbamol\"         or Claim item has quantity greater than 21 of \"motrin\"         or Claim item has quantity greater than 21 of \"naproxen\"         or Claim item has quantity greater than 21 of \"neurogesic\"         or Claim item has quantity greater than 30 of \"norflex\"         or Claim item has quantity greater than 30 of \"norgesic\"         or Claim item has quantity greater than 21 of \"nurofen\"\n",
            "Enter the output text: analgesic.xlsx\n",
            "Matches found: [('42', 'acetaminophen'), ('21', 'advil'), ('21', 'anorol'), ('30', 'arthrotec'), ('30', 'athrotec'), ('21', 'baclofen'), ('21', 'brustan-n'), ('21', 'brustan'), ('21', 'Calci-max'), ('21', 'Calcimax'), ('21', 'Calcium'), ('2', 'calpol'), ('21', 'cataflam'), ('21', 'ceflonac'), ('21', 'celebrex'), ('21', 'celecoxib'), ('21', 'chymoral'), ('21', 'chymotrypsin'), ('21', 'co-codamol'), ('21', 'cocodamol'), ('21', 'colpol'), ('1', 'deep heat'), ('21', 'diclofenac'), ('21', 'diclofenae'), ('21', 'diclomol'), ('21', 'dolo-meta'), ('21', 'dolo'), ('21', 'dolometa'), ('42', 'drugamol'), ('21', 'eproxen'), ('21', 'felvin'), ('21', 'felxicam'), ('21', 'flotac'), ('21', 'ibex'), ('30', 'ibrucap'), ('30', 'ibrupofen'), ('30', 'ibrupofen'), ('30', 'ibucap'), ('30', 'ibuprofen'), ('21', 'Ketoprofen'), ('21', 'ketorolac'), ('21', 'ketotifen'), ('21', 'lofnac'), ('21', 'mefanamic'), ('21', 'mefenamic'), ('21', 'melocap'), ('21', 'meloxicam'), ('21', 'methocarbamol'), ('21', 'motrin'), ('21', 'naproxen'), ('21', 'neurogesic'), ('30', 'norflex'), ('30', 'norgesic'), ('21', 'nurofen')]\n",
            "processed list saved to analgesic.xlsx\n"
          ]
        }
      ],
      "source": [
        "import re\n",
        "import pandas as pd\n",
        "\n",
        "def convert_claim_items(input_text=None, output_file_path=None):\n",
        "\n",
        "  if input_text is None:\n",
        "    input_text = input(\"\"\"Enter the input text: \"\"\")\n",
        "\n",
        "  if output_file_path is None:\n",
        "    output_file_path = input(\"Enter the output text: \")\n",
        "\n",
        "    # Pattern\n",
        "  pattern = r'Claim item has quantity greater than (\\d+) of \"(.*?)\"'\n",
        "\n",
        "    # Find matches\n",
        "  matches = re.findall(pattern, input_text)\n",
        "  print(f\"Matches found: {matches}\")\n",
        "\n",
        "  output_lines = []\n",
        "  for quantity, medication in matches:\n",
        "      output_lines.append(f'put(\"{medication}\", {quantity});')\n",
        "\n",
        "  return \"\\n\\t\\t\".join(output_lines), output_file_path\n",
        "\n",
        "initial_output, output_file_path = convert_claim_items()\n",
        "\n",
        "final_output = list(initial_output.split('\\n'))\n",
        "lim = pd.DataFrame(final_output, columns=['limit']) #.to_csv('medications.csv', index=False)\n",
        "lim['limit'] = lim['limit'].str.strip()\n",
        "lim.to_excel(output_file_path, index=False)\n",
        "\n",
        "print(f'processed list saved to {output_file_path}')"
      ]
    },
    {
      "cell_type": "code",
      "source": [],
      "metadata": {
        "id": "SaAp0CpaCQCt"
      },
      "execution_count": null,
      "outputs": []
    }
  ]
}